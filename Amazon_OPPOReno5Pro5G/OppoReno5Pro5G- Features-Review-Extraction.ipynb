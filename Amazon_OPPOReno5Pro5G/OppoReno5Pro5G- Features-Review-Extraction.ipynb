{
 "cells": [
  {
   "cell_type": "markdown",
   "metadata": {},
   "source": [
    "## This script aims to extarct features and reviews of a cell Phone from an ecommerce-website Amazon\n",
    "\n",
    "\n",
    "#### Author: Nabanita Paul"
   ]
  },
  {
   "cell_type": "markdown",
   "metadata": {},
   "source": [
    "##### import library"
   ]
  },
  {
   "cell_type": "code",
   "execution_count": 3,
   "metadata": {},
   "outputs": [],
   "source": [
    "from bs4 import BeautifulSoup \n",
    "import requests\n",
    "import pandas as pd\n",
    "import matplotlib.pyplot as plt\n",
    "import numpy as np"
   ]
  },
  {
   "cell_type": "code",
   "execution_count": 2,
   "metadata": {},
   "outputs": [],
   "source": [
    "def get_content(product_link):\n",
    "    HEADERS = ({'User-Agent': \n",
    "           'Mozilla/5.0 (X11; Linux x86_64)AppleWebKit/537.36 (KHTML, like Gecko)Chrome/44.0.2403.157 Safari/537.36', \n",
    "                           'Accept-Language': 'en-US, en;q=0.5'}) \n",
    "    webpage = requests.get(product_link, headers=HEADERS) \n",
    "    soup = BeautifulSoup(webpage.content, \"html.parser\")\n",
    "    return soup"
   ]
  },
  {
   "cell_type": "markdown",
   "metadata": {},
   "source": [
    "#### Getting Features"
   ]
  },
  {
   "cell_type": "code",
   "execution_count": 8,
   "metadata": {},
   "outputs": [],
   "source": [
    "def features(soup):\n",
    "    get_features= soup.find(\"div\", attrs={\"id\": \"feature-bullets\"})\n",
    "    features = (get_features.text).replace(\"\\n\",\" \")\n",
    "    all_features = features.split(\"  \")\n",
    "    count=0\n",
    "    feature_list = []\n",
    "    for i in range(0,len(all_features)):\n",
    "        features= all_features[i]\n",
    "        if len(features)==0:\n",
    "            continue\n",
    "        else:\n",
    "            count=count+1\n",
    "            feature_list.append(features)\n",
    "        \n",
    "    return feature_list"
   ]
  },
  {
   "cell_type": "code",
   "execution_count": 9,
   "metadata": {},
   "outputs": [],
   "source": [
    "product_link = r'https://www.amazon.in/Starry-Storage-Additional-Exchange-Offers/dp/B08LRFGM3T'\n",
    "\n",
    "soup = get_content(product_link)\n",
    "feature_list = features(soup)"
   ]
  },
  {
   "cell_type": "markdown",
   "metadata": {},
   "source": [
    "#### Extract featuures to CSV"
   ]
  },
  {
   "cell_type": "code",
   "execution_count": 10,
   "metadata": {},
   "outputs": [],
   "source": [
    "\n",
    "df_features = pd.DataFrame(feature_list, columns=[\"features\"])\n",
    "df_features.to_csv(\"features.csv\")"
   ]
  },
  {
   "cell_type": "code",
   "execution_count": 184,
   "metadata": {},
   "outputs": [
    {
     "data": {
      "text/plain": [
       "[' 3D Borderless Sense Screen | AI Highlight Video (Ultra Night Video + Live HDR) | Super AMOLED Display',\n",
       " '64MP + 8MP + 2MP + 2MP | 32MP Front Camera',\n",
       " 'Innovative 65W SuperVOOC 2.0 flash charging brings the 4350 mAh battery,5 minutes charging & 4hours of video playback, fully charging in 30 minutes.',\n",
       " '16.64 cm (6.55 inch) Full HD+ Display with 2400x1080 resolution.',\n",
       " 'Color OS 11.1 based on Android v11.0 operating system with 2.6GHz MediaTek Dimensity 1000+ (MT6889) Processor, ARM G77 MC9 836 MHz',\n",
       " ' \\x9b See more product details ']"
      ]
     },
     "execution_count": 184,
     "metadata": {},
     "output_type": "execute_result"
    }
   ],
   "source": [
    "features(soup)"
   ]
  },
  {
   "cell_type": "markdown",
   "metadata": {},
   "source": [
    "#### Getting reviews"
   ]
  },
  {
   "cell_type": "code",
   "execution_count": 14,
   "metadata": {},
   "outputs": [],
   "source": [
    "def get_reviews_content(review_path):\n",
    "    HEADERS = ({'User-Agent': \n",
    "           'Mozilla/5.0 (X11; Linux x86_64)AppleWebKit/537.36 (KHTML, like Gecko)Chrome/44.0.2403.157 Safari/537.36', \n",
    "                           'Accept-Language': 'en-US, en;q=0.5'}) \n",
    "    webpage = requests.get(review_path, headers=HEADERS)\n",
    "    review_soup = BeautifulSoup(webpage.content, 'html.parser')    \n",
    "    return review_soup "
   ]
  },
  {
   "cell_type": "code",
   "execution_count": 15,
   "metadata": {},
   "outputs": [],
   "source": [
    "def get_reviews(review_soup):    \n",
    "    reviews = review_soup.find_all(\"div\",attrs={'class': 'a-row a-spacing-small review-data'}) \n",
    "    all_reviews =[(i.span.text).replace(\"\\n\",\" \").strip() for i in reviews]\n",
    "    return all_reviews"
   ]
  },
  {
   "cell_type": "code",
   "execution_count": 16,
   "metadata": {},
   "outputs": [],
   "source": [
    "def extract_all_reviews(review_path):\n",
    "    full_reviews= []\n",
    "    for i in range(1,5):        \n",
    "        a_review_page =review_path+str(i)\n",
    "        review_soup = get_reviews_content(a_review_page)\n",
    "        all_reviews = get_reviews(review_soup)\n",
    "        for a_review in all_reviews:\n",
    "            full_reviews.append(a_review)\n",
    "    return full_reviews"
   ]
  },
  {
   "cell_type": "code",
   "execution_count": 17,
   "metadata": {},
   "outputs": [
    {
     "data": {
      "text/plain": [
       "['Super phone set',\n",
       " 'Worst mobile',\n",
       " 'I am gonna to write genuine review for OPPO Reno 5 Pro.First of all thank you OPPO for such a awesome phone.Display wise really 5 out of 5Camera was really superb 😍Come to battery not bad but yes full day enjoy.First time i am using OPPO smartphone but yes alot of extra features compare to OnePlus.Note :- this note is recommended for OPPO band please give one update for battery and front camera. please make sure front camera needed to support AI in Normal selfie and best quality.Yes I am gonna to recommended this phone go-ahead.',\n",
       " \"Excellent mobile with best features in-build Really fast charging .Camera is amazing with 20x zoom AI feature works well while taking pics.Dual video mode works well.The phone weights just 176g which you won't feel having in your hand.Dolby Atmos works amazing.\",\n",
       " 'After 7 days side volume button damaged......Response for this complaints is very slow....Otherwise overall mobile look is good, light weight and process is good.',\n",
       " 'Phone is awesome no doubt,no lags, stunning curve display, superfast 65 watt charger, but the phone is slightly costlier,it should be around 30k, realme x7 pro is much cheaper than this with extra features,.........and one more thing oppo should have brought this phone in 256 gb varient as well....',\n",
       " 'Online replacement policy very bad for 7days only , if purchase at retail outlet they gives 30 days replacement policy . So select good one Amazon purchase or retail purchase , Amazon 7days replacement policy very bad',\n",
       " 'Good phone but the price should be lowered about 25k to 27k',\n",
       " 'Absolutely awesome!!',\n",
       " 'Bad experience mobile heat up and 2sim slots not proper work change my phone plUsed for 20 days 28 Feb deliverd phone',\n",
       " 'Waste battery  OnePlus  better',\n",
       " 'Bty of this phone is very poor one month later battery  auto discharge fastly without using phone',\n",
       " 'Damaged item received damaged on borders',\n",
       " 'Mobile is getting heated. Apps are getting hang.',\n",
       " 'Wonderful 💋',\n",
       " 'Battery backup is very poor',\n",
       " 'BESTCAMERA PHONE',\n",
       " 'Excellent mobile',\n",
       " 'Value for money',\n",
       " \"It's awesome\",\n",
       " 'Awesome',\n",
       " 'Worst',\n",
       " 'Best phone with premium quality curve screen and fast charger which take 30 Mon to full charge and better than OnePlus nord',\n",
       " 'Photos are not as good as reviews given in youtube . Redmi 12000 rs phones have better camera setup then this , biggest blunder if u buy this for a good camera setup . If u want a good camera phone u can go for Vivo V20',\n",
       " 'Your browser does not support HTML5 video.     \\xa0Just battery backup is very poor else everything is perfect, camra is good working smooth, slim and handy phone, heats on charging',\n",
       " 'Good looking My favourite smartphone in my life .so I like to purchase this phone oppo company.Dilse i like this phone',\n",
       " \"Just 25 k phone don't bye it poor speaker quality dayspye is normal.Not bye this product oppooJust ignore.\",\n",
       " 'Everything was excellent but the thing Is battery life is not good improve the battery life and the more features',\n",
       " 'Nice kadakk,😊👍😘😊👍😊👍😊😘😊😘😊😘😊😘😊😘😊😘😊😘😘😊😘😊😊😘😊😘😊😘sultan g o o g g g g g g g g g g g f f g f',\n",
       " 'Best phone ever !!! Ever!!!!! From oppo you can go for it it can beat a flagchip phone of oppo',\n",
       " 'Very nice budget phone,but better drops fastly.',\n",
       " 'Na',\n",
       " 'Phone is considerably thin and the screen is also very good, sound quality is good. The performance of the phone is fast and smooth. I qould say its at par with One Plus 8T. Cameras are good but not worth the hype. The only major drawback is the battery drainage and slight heating issues. The charger provided with the product is very bulky. Yes, its charges to 100% in 30mins']"
      ]
     },
     "execution_count": 17,
     "metadata": {},
     "output_type": "execute_result"
    }
   ],
   "source": [
    "review_path =\"https://www.amazon.in/Starry-Storage-Additional-Exchange-Offers/product-reviews/B08LRFGM3T/ref=cm_cr_getr_d_paging_btm_prev_1?ie=UTF8&reviewerType=all_reviews&pageNumber=\"\n",
    "extract_all_reviews(review_path)"
   ]
  },
  {
   "cell_type": "markdown",
   "metadata": {},
   "source": [
    "#### Extracting reviews to csv"
   ]
  },
  {
   "cell_type": "code",
   "execution_count": 18,
   "metadata": {},
   "outputs": [],
   "source": [
    "reviews = extract_all_reviews(review_path)\n",
    "df_reviews= pd.DataFrame(reviews, columns=[\"reviews\"])\n",
    "df_reviews.to_csv(\"reviews.csv\")"
   ]
  }
 ],
 "metadata": {
  "kernelspec": {
   "display_name": "Python 3",
   "language": "python",
   "name": "python3"
  },
  "language_info": {
   "codemirror_mode": {
    "name": "ipython",
    "version": 3
   },
   "file_extension": ".py",
   "mimetype": "text/x-python",
   "name": "python",
   "nbconvert_exporter": "python",
   "pygments_lexer": "ipython3",
   "version": "3.8.3"
  }
 },
 "nbformat": 4,
 "nbformat_minor": 4
}
